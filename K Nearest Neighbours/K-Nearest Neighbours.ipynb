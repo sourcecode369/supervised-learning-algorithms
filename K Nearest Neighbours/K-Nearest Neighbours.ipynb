{
 "cells": [
  {
   "cell_type": "code",
   "execution_count": 20,
   "metadata": {},
   "outputs": [],
   "source": [
    "from __future__ import absolute_import, division, print_function\n",
    "%reload_ext autoreload\n",
    "%autoreload 2\n",
    "%config InlineBackend.figure_format = \"retina\"\n",
    "%matplotlib inline\n",
    "\n",
    "import numpy as np\n",
    "import pandas as pd\n",
    "import matplotlib.pyplot as plt\n",
    "\n",
    "import os\n",
    "import sys\n",
    "import time\n",
    "\n",
    "from datetime import datetime\n",
    "from sortedcollections import SortedList\n",
    "from IPython import display\n",
    "\n",
    "from util import *"
   ]
  },
  {
   "cell_type": "code",
   "execution_count": 25,
   "metadata": {},
   "outputs": [],
   "source": [
    "class KNN:\n",
    "    def __init__(self, k):\n",
    "        self.k = k\n",
    "    \n",
    "    def fit(self, X, y):\n",
    "        self.X = X\n",
    "        self.y = y\n",
    "        \n",
    "    def predict(self,X):\n",
    "        y = np.zeros(len(X))\n",
    "        for i, x in enumerate(self.X):\n",
    "            sl = SortedList()\n",
    "            for j, xd in enumerate(self.X):\n",
    "                diff = xd - x\n",
    "                d = diff.dot(diff)\n",
    "                if len(sl)<self.k:\n",
    "                    sl.add((d,self.y[j]))\n",
    "                else:\n",
    "                    if(sl[-1][0]<d):\n",
    "                        del sl[-1]\n",
    "                        sl.add((d,self. y[j]))\n",
    "            votes = {}\n",
    "            for _, v in sl:\n",
    "                votes[v] = votes.get(v, 0) + 1\n",
    "                max_votes = 0\n",
    "                for v, count in votes.items():\n",
    "                    if count>max_votes:\n",
    "                        max_votes = count\n",
    "                        max_votes_class = v\n",
    "                y[i] = max_votes_class\n",
    "        return y\n",
    "    \n",
    "    def score(self, X, Y):\n",
    "        P = self.predict(X)\n",
    "        return np.mean(P == Y)\n",
    "                "
   ]
  },
  {
   "cell_type": "code",
   "execution_count": 26,
   "metadata": {},
   "outputs": [
    {
     "name": "stdout",
     "output_type": "stream",
     "text": [
      "Reading in and transforming data...\n",
      "Training time:  0:00:00\n",
      "Training accuracy:  1.0\n",
      "Time to compute train accuracy:  0:00:29.886513\n",
      "Test accuracy:  0.105\n",
      "Time to compute test accuracy:  0:00:33.124088\n",
      "Training time:  0:00:00\n",
      "Training accuracy:  1.0\n",
      "Time to compute train accuracy:  0:00:29.389154\n",
      "Test accuracy:  0.105\n",
      "Time to compute test accuracy:  0:00:29.508442\n",
      "Training time:  0:00:00\n",
      "Training accuracy:  0.947\n",
      "Time to compute train accuracy:  0:00:29.987782\n",
      "Test accuracy:  0.106\n",
      "Time to compute test accuracy:  0:00:31.782520\n",
      "Training time:  0:00:00\n",
      "Training accuracy:  0.946\n",
      "Time to compute train accuracy:  0:00:28.257178\n",
      "Test accuracy:  0.105\n",
      "Time to compute test accuracy:  0:00:28.183940\n",
      "Training time:  0:00:00\n",
      "Training accuracy:  0.919\n",
      "Time to compute train accuracy:  0:00:28.904885\n",
      "Test accuracy:  0.105\n",
      "Time to compute test accuracy:  0:00:28.275189\n"
     ]
    }
   ],
   "source": [
    "if __name__ == \"__main__\":\n",
    "    X, Y = get_data(2000)\n",
    "    Ntrain = 1000\n",
    "    Xtrain, Ytrain = X[:Ntrain], Y[:Ntrain]\n",
    "    Xtest, Ytest = X[Ntrain:], Y[Ntrain:]\n",
    "    for k in (1,2,3,4,5):\n",
    "        knn = KNN(k)\n",
    "        t0 = datetime.now()\n",
    "        knn.fit(Xtrain, Ytrain)\n",
    "        print(\"Training time: \", (datetime.now() - t0))\n",
    "        \n",
    "        t0 = datetime.now()\n",
    "        print(\"Training accuracy: \",knn.score(Xtrain, Ytrain))\n",
    "        print(\"Time to compute train accuracy: \",(datetime.now() - t0))\n",
    "        \n",
    "        t0 = datetime.now()\n",
    "        print(\"Test accuracy: \",knn.score(Xtest, Ytest))\n",
    "        print(\"Time to compute test accuracy: \",(datetime.now() - t0))\n",
    "        "
   ]
  },
  {
   "cell_type": "code",
   "execution_count": null,
   "metadata": {},
   "outputs": [],
   "source": []
  }
 ],
 "metadata": {
  "kernelspec": {
   "display_name": "Python 3",
   "language": "python",
   "name": "python3"
  },
  "language_info": {
   "codemirror_mode": {
    "name": "ipython",
    "version": 3
   },
   "file_extension": ".py",
   "mimetype": "text/x-python",
   "name": "python",
   "nbconvert_exporter": "python",
   "pygments_lexer": "ipython3",
   "version": "3.7.2"
  }
 },
 "nbformat": 4,
 "nbformat_minor": 2
}
